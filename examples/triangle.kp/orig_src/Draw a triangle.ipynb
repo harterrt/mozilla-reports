{
 "cells": [
  {
   "cell_type": "markdown",
   "metadata": {},
   "source": [
    "---\n",
    "title: Draw a triangle with Python\n",
    "authors:\n",
    "- :harter\n",
    "tags:\n",
    "- example\n",
    "created_at: 2017-10-31\n",
    "updated_at: 2017-10-31\n",
    "tldr: An example notebook/function for drawing a triangle in python\n",
    "---"
   ]
  },
  {
   "cell_type": "code",
   "execution_count": null,
   "metadata": {},
   "outputs": [],
   "source": [
    "def draw_a_triangle(peak):\n",
    "    for i in range(peak * 2):\n",
    "        print '*' * (i - 2 * max(0, i-peak))\n",
    "\n",
    "draw_a_triangle(10)"
   ]
  }
 ],
 "metadata": {
  "kernelspec": {
   "display_name": "Python 2",
   "language": "python",
   "name": "python2"
  },
  "language_info": {
   "codemirror_mode": {
    "name": "ipython",
    "version": 2
   },
   "file_extension": ".py",
   "mimetype": "text/x-python",
   "name": "python",
   "nbconvert_exporter": "python",
   "pygments_lexer": "ipython2",
   "version": "2.7.13"
  }
 },
 "nbformat": 4,
 "nbformat_minor": 2
}